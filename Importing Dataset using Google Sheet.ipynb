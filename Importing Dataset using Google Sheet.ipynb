{
 "cells": [
  {
   "cell_type": "markdown",
   "id": "efab1990",
   "metadata": {},
   "source": [
    "#Installing gspread"
   ]
  },
  {
   "cell_type": "code",
   "execution_count": 3,
   "id": "f1d37b8b",
   "metadata": {},
   "outputs": [
    {
     "name": "stdout",
     "output_type": "stream",
     "text": [
      "Collecting gspread\n",
      "  Downloading gspread-5.7.2-py3-none-any.whl (40 kB)\n",
      "Requirement already satisfied: google-auth>=1.12.0 in c:\\users\\hp\\anaconda3\\lib\\site-packages (from gspread) (2.11.0)\n",
      "Requirement already satisfied: google-auth-oauthlib>=0.4.1 in c:\\users\\hp\\anaconda3\\lib\\site-packages (from gspread) (0.4.6)\n",
      "Requirement already satisfied: rsa<5,>=3.1.4 in c:\\users\\hp\\anaconda3\\lib\\site-packages (from google-auth>=1.12.0->gspread) (4.9)\n",
      "Requirement already satisfied: six>=1.9.0 in c:\\users\\hp\\anaconda3\\lib\\site-packages (from google-auth>=1.12.0->gspread) (1.16.0)\n",
      "Requirement already satisfied: cachetools<6.0,>=2.0.0 in c:\\users\\hp\\anaconda3\\lib\\site-packages (from google-auth>=1.12.0->gspread) (5.2.0)\n",
      "Requirement already satisfied: pyasn1-modules>=0.2.1 in c:\\users\\hp\\anaconda3\\lib\\site-packages (from google-auth>=1.12.0->gspread) (0.2.8)\n",
      "Requirement already satisfied: requests-oauthlib>=0.7.0 in c:\\users\\hp\\anaconda3\\lib\\site-packages (from google-auth-oauthlib>=0.4.1->gspread) (1.3.1)\n",
      "Requirement already satisfied: pyasn1<0.5.0,>=0.4.6 in c:\\users\\hp\\anaconda3\\lib\\site-packages (from pyasn1-modules>=0.2.1->google-auth>=1.12.0->gspread) (0.4.8)\n",
      "Requirement already satisfied: requests>=2.0.0 in c:\\users\\hp\\anaconda3\\lib\\site-packages (from requests-oauthlib>=0.7.0->google-auth-oauthlib>=0.4.1->gspread) (2.26.0)\n",
      "Requirement already satisfied: oauthlib>=3.0.0 in c:\\users\\hp\\anaconda3\\lib\\site-packages (from requests-oauthlib>=0.7.0->google-auth-oauthlib>=0.4.1->gspread) (3.2.1)\n",
      "Requirement already satisfied: charset-normalizer~=2.0.0 in c:\\users\\hp\\anaconda3\\lib\\site-packages (from requests>=2.0.0->requests-oauthlib>=0.7.0->google-auth-oauthlib>=0.4.1->gspread) (2.0.4)\n",
      "Requirement already satisfied: certifi>=2017.4.17 in c:\\users\\hp\\anaconda3\\lib\\site-packages (from requests>=2.0.0->requests-oauthlib>=0.7.0->google-auth-oauthlib>=0.4.1->gspread) (2021.10.8)\n",
      "Requirement already satisfied: idna<4,>=2.5 in c:\\users\\hp\\anaconda3\\lib\\site-packages (from requests>=2.0.0->requests-oauthlib>=0.7.0->google-auth-oauthlib>=0.4.1->gspread) (3.2)\n",
      "Requirement already satisfied: urllib3<1.27,>=1.21.1 in c:\\users\\hp\\anaconda3\\lib\\site-packages (from requests>=2.0.0->requests-oauthlib>=0.7.0->google-auth-oauthlib>=0.4.1->gspread) (1.26.7)\n",
      "Installing collected packages: gspread\n",
      "Successfully installed gspread-5.7.2\n"
     ]
    }
   ],
   "source": [
    "!pip install gspread"
   ]
  },
  {
   "cell_type": "markdown",
   "id": "017b3b57",
   "metadata": {},
   "source": [
    "import pandas library"
   ]
  },
  {
   "cell_type": "code",
   "execution_count": 5,
   "id": "78463c33",
   "metadata": {},
   "outputs": [],
   "source": [
    "import pandas as pd\n",
    "import gspread"
   ]
  },
  {
   "cell_type": "markdown",
   "id": "ce0df5e8",
   "metadata": {},
   "source": [
    "Sheet open by URL"
   ]
  },
  {
   "cell_type": "code",
   "execution_count": 21,
   "id": "f6714843",
   "metadata": {},
   "outputs": [],
   "source": [
    "gs=gspread.service_account(filename=\"E:\\\\Data Science Course_DataSet\\\\datascience-378710-c3912c907c34.json\")"
   ]
  },
  {
   "cell_type": "code",
   "execution_count": 22,
   "id": "dab5e711",
   "metadata": {},
   "outputs": [
    {
     "data": {
      "text/plain": [
       "<gspread.client.Client at 0x2aa0f451df0>"
      ]
     },
     "execution_count": 22,
     "metadata": {},
     "output_type": "execute_result"
    }
   ],
   "source": [
    "gs"
   ]
  },
  {
   "cell_type": "markdown",
   "id": "fcc1e81d",
   "metadata": {},
   "source": [
    "Importing SpreadSheet url"
   ]
  },
  {
   "cell_type": "code",
   "execution_count": 23,
   "id": "c8e90305",
   "metadata": {},
   "outputs": [],
   "source": [
    "sheet=gs.open_by_url(\"https://docs.google.com/spreadsheets/d/1sn51cf4-6-hj2DBhVrDCeLBJSa_AA5Dt31ukYhiG7oA/edit?usp=sharing\")"
   ]
  },
  {
   "cell_type": "code",
   "execution_count": 24,
   "id": "cd5aa70d",
   "metadata": {},
   "outputs": [
    {
     "data": {
      "text/plain": [
       "<Spreadsheet 'Screen Time Data' id:1sn51cf4-6-hj2DBhVrDCeLBJSa_AA5Dt31ukYhiG7oA>"
      ]
     },
     "execution_count": 24,
     "metadata": {},
     "output_type": "execute_result"
    }
   ],
   "source": [
    "sheet"
   ]
  },
  {
   "cell_type": "markdown",
   "id": "30966015",
   "metadata": {},
   "source": [
    "Get spreadSheet in WorkSheet"
   ]
  },
  {
   "cell_type": "code",
   "execution_count": 17,
   "id": "31d131d5",
   "metadata": {},
   "outputs": [],
   "source": [
    "ws=sheet.worksheet(\"Screen Time Data\")"
   ]
  },
  {
   "cell_type": "code",
   "execution_count": 18,
   "id": "008c7c78",
   "metadata": {},
   "outputs": [
    {
     "data": {
      "text/plain": [
       "<Worksheet 'Screen Time Data' id:1122388306>"
      ]
     },
     "execution_count": 18,
     "metadata": {},
     "output_type": "execute_result"
    }
   ],
   "source": [
    "ws"
   ]
  },
  {
   "cell_type": "markdown",
   "id": "a7ed6cce",
   "metadata": {},
   "source": [
    "Coverting in DataFrame"
   ]
  },
  {
   "cell_type": "code",
   "execution_count": 19,
   "id": "a153fb29",
   "metadata": {},
   "outputs": [],
   "source": [
    "df=pd.DataFrame(ws.get_all_records())"
   ]
  },
  {
   "cell_type": "code",
   "execution_count": 20,
   "id": "484147fd",
   "metadata": {},
   "outputs": [
    {
     "data": {
      "text/html": [
       "<div>\n",
       "<style scoped>\n",
       "    .dataframe tbody tr th:only-of-type {\n",
       "        vertical-align: middle;\n",
       "    }\n",
       "\n",
       "    .dataframe tbody tr th {\n",
       "        vertical-align: top;\n",
       "    }\n",
       "\n",
       "    .dataframe thead th {\n",
       "        text-align: right;\n",
       "    }\n",
       "</style>\n",
       "<table border=\"1\" class=\"dataframe\">\n",
       "  <thead>\n",
       "    <tr style=\"text-align: right;\">\n",
       "      <th></th>\n",
       "      <th>index</th>\n",
       "      <th>Date</th>\n",
       "      <th>Week Day</th>\n",
       "      <th>Total Screen Time</th>\n",
       "      <th>Social Networking</th>\n",
       "      <th>Reading and Reference</th>\n",
       "      <th>Other</th>\n",
       "      <th>Productivity</th>\n",
       "      <th>Health and Fitness</th>\n",
       "      <th>Entertainment</th>\n",
       "      <th>Creativity</th>\n",
       "      <th>Yoga</th>\n",
       "    </tr>\n",
       "  </thead>\n",
       "  <tbody>\n",
       "    <tr>\n",
       "      <th>0</th>\n",
       "      <td>0</td>\n",
       "      <td>04/17/19</td>\n",
       "      <td>Wednesday</td>\n",
       "      <td>187</td>\n",
       "      <td>89</td>\n",
       "      <td>17</td>\n",
       "      <td>41</td>\n",
       "      <td>22</td>\n",
       "      <td>0</td>\n",
       "      <td>0</td>\n",
       "      <td>0</td>\n",
       "      <td>0</td>\n",
       "    </tr>\n",
       "    <tr>\n",
       "      <th>1</th>\n",
       "      <td>1</td>\n",
       "      <td>04/18/19</td>\n",
       "      <td>Thursday</td>\n",
       "      <td>123</td>\n",
       "      <td>78</td>\n",
       "      <td>17</td>\n",
       "      <td>8</td>\n",
       "      <td>9</td>\n",
       "      <td>0</td>\n",
       "      <td>0</td>\n",
       "      <td>0</td>\n",
       "      <td>0</td>\n",
       "    </tr>\n",
       "    <tr>\n",
       "      <th>2</th>\n",
       "      <td>2</td>\n",
       "      <td>04/19/19</td>\n",
       "      <td>Friday</td>\n",
       "      <td>112</td>\n",
       "      <td>52</td>\n",
       "      <td>40</td>\n",
       "      <td>8</td>\n",
       "      <td>4</td>\n",
       "      <td>0</td>\n",
       "      <td>3</td>\n",
       "      <td>0</td>\n",
       "      <td>0</td>\n",
       "    </tr>\n",
       "    <tr>\n",
       "      <th>3</th>\n",
       "      <td>3</td>\n",
       "      <td>04/20/19</td>\n",
       "      <td>Saturday</td>\n",
       "      <td>101</td>\n",
       "      <td>69</td>\n",
       "      <td>9</td>\n",
       "      <td>38</td>\n",
       "      <td>2</td>\n",
       "      <td>0</td>\n",
       "      <td>3</td>\n",
       "      <td>0</td>\n",
       "      <td>0</td>\n",
       "    </tr>\n",
       "    <tr>\n",
       "      <th>4</th>\n",
       "      <td>4</td>\n",
       "      <td>04/21/19</td>\n",
       "      <td>Sunday</td>\n",
       "      <td>56</td>\n",
       "      <td>35</td>\n",
       "      <td>2</td>\n",
       "      <td>43</td>\n",
       "      <td>3</td>\n",
       "      <td>0</td>\n",
       "      <td>1</td>\n",
       "      <td>1</td>\n",
       "      <td>0</td>\n",
       "    </tr>\n",
       "  </tbody>\n",
       "</table>\n",
       "</div>"
      ],
      "text/plain": [
       "   index      Date   Week Day  Total Screen Time  Social Networking  \\\n",
       "0      0  04/17/19  Wednesday                187                 89   \n",
       "1      1  04/18/19   Thursday                123                 78   \n",
       "2      2  04/19/19     Friday                112                 52   \n",
       "3      3  04/20/19   Saturday                101                 69   \n",
       "4      4  04/21/19     Sunday                 56                 35   \n",
       "\n",
       "   Reading and Reference  Other  Productivity  Health and Fitness  \\\n",
       "0                     17     41            22                   0   \n",
       "1                     17      8             9                   0   \n",
       "2                     40      8             4                   0   \n",
       "3                      9     38             2                   0   \n",
       "4                      2     43             3                   0   \n",
       "\n",
       "   Entertainment  Creativity  Yoga  \n",
       "0              0           0     0  \n",
       "1              0           0     0  \n",
       "2              3           0     0  \n",
       "3              3           0     0  \n",
       "4              1           1     0  "
      ]
     },
     "execution_count": 20,
     "metadata": {},
     "output_type": "execute_result"
    }
   ],
   "source": [
    "df.head()"
   ]
  },
  {
   "cell_type": "code",
   "execution_count": null,
   "id": "b1d2bbe8",
   "metadata": {},
   "outputs": [],
   "source": []
  }
 ],
 "metadata": {
  "kernelspec": {
   "display_name": "Python 3 (ipykernel)",
   "language": "python",
   "name": "python3"
  },
  "language_info": {
   "codemirror_mode": {
    "name": "ipython",
    "version": 3
   },
   "file_extension": ".py",
   "mimetype": "text/x-python",
   "name": "python",
   "nbconvert_exporter": "python",
   "pygments_lexer": "ipython3",
   "version": "3.9.7"
  }
 },
 "nbformat": 4,
 "nbformat_minor": 5
}
